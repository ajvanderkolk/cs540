{
 "cells": [
  {
   "cell_type": "code",
   "execution_count": 1,
   "metadata": {},
   "outputs": [],
   "source": [
    "%load_ext autoreload\n",
    "%autoreload 2\n",
    "import hw4\n",
    "import numpy as np"
   ]
  },
  {
   "cell_type": "code",
   "execution_count": 25,
   "metadata": {},
   "outputs": [
    {
     "data": {
      "text/plain": [
       "list"
      ]
     },
     "execution_count": 25,
     "metadata": {},
     "output_type": "execute_result"
    }
   ],
   "source": [
    "# x = np.array([2,3,4])\n",
    "x = [2,3,4]\n",
    "y = np.array([1,2,3])\n",
    "z = x - y\n",
    "#print(np.linalg.norm(x), np.linalg.norm(y), np.linalg.norm(z), np.linalg.norm(x - y))\n",
    "#print(len(x))\n",
    "#print(len(np.array(x)))\n",
    "type(x)"
   ]
  },
  {
   "cell_type": "code",
   "execution_count": 28,
   "metadata": {},
   "outputs": [
    {
     "name": "stdout",
     "output_type": "stream",
     "text": [
      "<class 'list'>\n"
     ]
    },
    {
     "data": {
      "text/plain": [
       "5.0"
      ]
     },
     "execution_count": 28,
     "metadata": {},
     "output_type": "execute_result"
    }
   ],
   "source": [
    "x = [np.array([1,2,3]), np.array([4,5,6]), np.array([7,8,9])]\n",
    "print(type(x))\n",
    "np.mean(x)"
   ]
  },
  {
   "cell_type": "code",
   "execution_count": 10,
   "metadata": {},
   "outputs": [
    {
     "name": "stdout",
     "output_type": "stream",
     "text": [
      "[[1 2 3]\n",
      " [4 5 6]\n",
      " [7 8 9]]\n"
     ]
    },
    {
     "data": {
      "text/plain": [
       "1"
      ]
     },
     "execution_count": 10,
     "metadata": {},
     "output_type": "execute_result"
    }
   ],
   "source": [
    "x = np.array([np.array([1,2,3]), np.array([4,5,6]), np.array([7,8,9])])\n",
    "print(x)\n",
    "#x[1,1]\n",
    "np.count_nonzero(x == 1)"
   ]
  },
  {
   "cell_type": "code",
   "execution_count": 2,
   "metadata": {},
   "outputs": [
    {
     "ename": "KeyError",
     "evalue": "10",
     "output_type": "error",
     "traceback": [
      "\u001b[1;31m---------------------------------------------------------------------------\u001b[0m",
      "\u001b[1;31mKeyError\u001b[0m                                  Traceback (most recent call last)",
      "Cell \u001b[1;32mIn[2], line 7\u001b[0m\n\u001b[0;32m      4\u001b[0m features_normalized \u001b[38;5;241m=\u001b[39m hw4\u001b[38;5;241m.\u001b[39mnormalize_features(features)\n\u001b[0;32m      6\u001b[0m n \u001b[38;5;241m=\u001b[39m \u001b[38;5;241m10\u001b[39m\n\u001b[1;32m----> 7\u001b[0m Z_raw \u001b[38;5;241m=\u001b[39m \u001b[43mhw4\u001b[49m\u001b[38;5;241;43m.\u001b[39;49m\u001b[43mhac\u001b[49m\u001b[43m(\u001b[49m\u001b[43mfeatures\u001b[49m\u001b[43m[\u001b[49m\u001b[38;5;241;43m-\u001b[39;49m\u001b[43mn\u001b[49m\u001b[43m:\u001b[49m\u001b[43m]\u001b[49m\u001b[43m)\u001b[49m\n\u001b[0;32m      8\u001b[0m \u001b[38;5;66;03m#Z_normalized = hac(features_normalized[:n])\u001b[39;00m\n\u001b[0;32m     10\u001b[0m hw4\u001b[38;5;241m.\u001b[39mfig_hac(Z_raw, country_names[\u001b[38;5;241m-\u001b[39mn:])\n",
      "File \u001b[1;32mc:\\Users\\AJV03\\OneDrive\\Desktop\\UW_Files\\fa24\\CS540\\hw4\\hw4.py:119\u001b[0m, in \u001b[0;36mhac\u001b[1;34m(features)\u001b[0m\n\u001b[0;32m    117\u001b[0m             distance_matrix[i, j] \u001b[38;5;241m=\u001b[39m np\u001b[38;5;241m.\u001b[39minf \u001b[38;5;66;03m# set the distance to np.inf to avoid re-merging the same clusters\u001b[39;00m\n\u001b[0;32m    118\u001b[0m             \u001b[38;5;28;01mbreak\u001b[39;00m\n\u001b[1;32m--> 119\u001b[0m clusters[merge_idx] \u001b[38;5;241m=\u001b[39m clusters\u001b[38;5;241m.\u001b[39mpop(i) \u001b[38;5;241m+\u001b[39m clusters\u001b[38;5;241m.\u001b[39mpop(j)\n\u001b[0;32m    120\u001b[0m \u001b[38;5;66;03m# update the distance matrix\u001b[39;00m\n\u001b[0;32m    121\u001b[0m z0 \u001b[38;5;241m=\u001b[39m \u001b[38;5;28mmin\u001b[39m(merging)\n",
      "\u001b[1;31mKeyError\u001b[0m: 10"
     ]
    }
   ],
   "source": [
    "data = hw4.load_data(\"countries.csv\")\n",
    "country_names = [row[\"Country\"] for row in data]\n",
    "features = [hw4.calc_features(row) for row in data]\n",
    "features_normalized = hw4.normalize_features(features)\n",
    "\n",
    "n = 10\n",
    "Z_raw = hw4.hac(features[-n:])\n",
    "#Z_normalized = hac(features_normalized[:n])\n",
    "\n",
    "hw4.fig_hac(Z_raw, country_names[-n:])"
   ]
  },
  {
   "cell_type": "code",
   "execution_count": null,
   "metadata": {},
   "outputs": [],
   "source": []
  }
 ],
 "metadata": {
  "kernelspec": {
   "display_name": "Python 3",
   "language": "python",
   "name": "python3"
  },
  "language_info": {
   "codemirror_mode": {
    "name": "ipython",
    "version": 3
   },
   "file_extension": ".py",
   "mimetype": "text/x-python",
   "name": "python",
   "nbconvert_exporter": "python",
   "pygments_lexer": "ipython3",
   "version": "3.11.3"
  }
 },
 "nbformat": 4,
 "nbformat_minor": 2
}
